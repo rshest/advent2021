{
 "cells": [
  {
   "cell_type": "code",
   "execution_count": 1,
   "id": "02f5379a-100b-4d10-8762-384f010d1bbe",
   "metadata": {
    "execution": {
     "iopub.execute_input": "2021-12-06T09:12+0000",
     "iopub.status.busy": "2021-12-06T09:12+0000",
     "iopub.status.idle": "2021-12-06T09:12+0000",
     "shell.execute_reply": "2021-12-06T09:12+0000",
     "shell.execute_reply.started": "2021-12-06T09:12+0000"
    }
   },
   "outputs": [],
   "source": [
    "// SETUP\n",
    "import java.io.File\n",
    "import java.io.BufferedReader\n",
    "\n",
    "fun readInputLines(dayIdx: Int): Iterable<String> {\n",
    "    val fileName = \"../data/%02d.txt\".format(dayIdx)\n",
    "    val reader: BufferedReader = File(fileName).bufferedReader()\n",
    "    return Iterable { reader.lineSequence().iterator() }\n",
    "}\n",
    "\n",
    "fun readInputLines(dayIdx: Int, testIdx: Int): Iterable<String> {\n",
    "    val fileName = \"../data/%02dt%d.txt\".format(dayIdx, testIdx)\n",
    "    val reader: BufferedReader = File(fileName).bufferedReader()\n",
    "    return Iterable { reader.lineSequence().iterator() }\n",
    "}"
   ]
  },
  {
   "cell_type": "code",
   "execution_count": 113,
   "id": "f562bc31-db43-49e0-a063-8344dd8c370d",
   "metadata": {},
   "outputs": [
    {
     "name": "stdout",
     "output_type": "stream",
     "text": [
      "Answer 1: 1557\n",
      "Answer 2: 1608\n"
     ]
    }
   ],
   "source": [
    "fun solution01() {\n",
    "    val nums = readInputLines(1).map {it.toInt()}\n",
    "\n",
    "    fun countIncr(nums: Iterable<Int>) = nums.windowed(2).filter {(a, b) -> a < b}.count()\n",
    "\n",
    "    val res1 = countIncr(nums)\n",
    "    val res2 = countIncr(nums.windowed(3).map {it.sum()})\n",
    "\n",
    "    println(\"Answer 1: $res1\\nAnswer 2: $res2\")\n",
    "}\n",
    "\n",
    "solution01();"
   ]
  },
  {
   "cell_type": "code",
   "execution_count": 114,
   "id": "65a3f0bd-8f11-4e81-89e9-52a423ba01a3",
   "metadata": {},
   "outputs": [
    {
     "name": "stdout",
     "output_type": "stream",
     "text": [
      "Answer 1: 1728414\n",
      "Answer 2: 1765720035\n"
     ]
    }
   ],
   "source": [
    "enum class Command {\n",
    "  forward, up, down\n",
    "}\n",
    "\n",
    "fun parseLine(line: String): Pair<Command, Int> { \n",
    "    val (c, n) = line.split(\" \")\n",
    "    return Pair(Command.valueOf(c), n.toInt())\n",
    "}\n",
    "\n",
    "fun step1(pos: Pair<Int, Int>, cmdLine: Pair<Command, Int>): Pair<Int, Int> {\n",
    "    val (x, depth) = pos\n",
    "    val (cmd, offs) = cmdLine\n",
    "    return when (cmd) {\n",
    "        Command.up -> Pair(x, depth - offs)\n",
    "        Command.down -> Pair(x, depth + offs)\n",
    "        Command.forward -> Pair(x + offs, depth)\n",
    "    }\n",
    "}\n",
    "\n",
    "fun step2(pos: Triple<Int, Int, Int>, cmdLine: Pair<Command, Int>): Triple<Int, Int, Int> {\n",
    "    val (x, depth, aim) = pos\n",
    "    val (cmd, offs) = cmdLine\n",
    "    return when (cmd) {\n",
    "        Command.up -> Triple(x, depth, aim - offs)\n",
    "        Command.down -> Triple(x, depth, aim + offs)\n",
    "        Command.forward -> Triple(x + offs, depth + aim * offs, aim)\n",
    "    }\n",
    "}\n",
    "\n",
    "fun solution02() {\n",
    "    val commands = readInputLines(2).map {parseLine(it)}\n",
    "    val (a1, b1) = commands.fold(Pair(0, 0), ::step1)\n",
    "    val (a2, b2) = commands.fold(Triple(0, 0, 0), ::step2)\n",
    "    println(\"Answer 1: ${a1 * b1}\\nAnswer 2: ${a2 * b2}\")\n",
    "}\n",
    "\n",
    "solution02();"
   ]
  },
  {
   "cell_type": "code",
   "execution_count": 6,
   "id": "747cfd25-a30d-44ce-9ab4-6453202c4550",
   "metadata": {
    "execution": {
     "iopub.execute_input": "2021-12-06T09:11+0000",
     "iopub.status.busy": "2021-12-06T09:11+0000",
     "iopub.status.idle": "2021-12-06T09:11+0000",
     "shell.execute_reply": "2021-12-06T09:11+0000",
     "shell.execute_reply.started": "2021-12-06T09:11+0000"
    }
   },
   "outputs": [
    {
     "name": "stdout",
     "output_type": "stream",
     "text": [
      "Answer 1: 2972336\n",
      "Answer 2: 3368358\n"
     ]
    }
   ],
   "source": [
    "fun getMostCommon(nums: Iterable<List<Int>>, pos: Int): Int {\n",
    "    var n0 = 0;\n",
    "    var n1 = 0;\n",
    "    for (num in nums) {\n",
    "        n0 += 1 - num[pos];\n",
    "        n1 += num[pos];\n",
    "    }\n",
    "    if (n1 >= n0) {\n",
    "        return 1\n",
    "    } else {\n",
    "        return 0\n",
    "    }\n",
    "}\n",
    "\n",
    "fun digitsToDecimal(digits: Iterable<Int>): Int {\n",
    "    return digits.fold(0) {v, d -> v * 2 + d}\n",
    "}\n",
    "\n",
    "\n",
    "fun part1(nums: List<List<Int>>): Int {\n",
    "    var lc = mutableListOf<Int>()\n",
    "    var mc = mutableListOf<Int>()\n",
    "    for (i in 0 until nums[0].size) {\n",
    "        val m = getMostCommon(nums, i)\n",
    "        mc.add(m)\n",
    "        lc.add(1 - m)\n",
    "    }\n",
    "    return digitsToDecimal(mc) * digitsToDecimal(lc)\n",
    "}\n",
    "\n",
    "fun part2(nums: List<List<Int>>): Int {\n",
    "    var mnums = (0 until nums.size).toList()\n",
    "    var lnums = (0 until nums.size).toList()\n",
    "    for (i in 0 until nums[0].size) {\n",
    "        if (mnums.size > 1) {\n",
    "            val m = getMostCommon(mnums.map {nums[it]}, i)\n",
    "            mnums = mnums.filter {nums[it][i] == m }\n",
    "        }\n",
    "        if (lnums.size > 1) {\n",
    "            val m = getMostCommon(lnums.map {nums[it]}, i)\n",
    "            lnums = lnums.filter {nums[it][i] == 1 - m }\n",
    "        }\n",
    "    }\n",
    "    return digitsToDecimal(nums[mnums[0]]) * digitsToDecimal(nums[lnums[0]])\n",
    "}\n",
    "\n",
    "fun solution03() {\n",
    "    val nums = readInputLines(3).map {it.toCharArray().map {Character.getNumericValue(it)}}\n",
    "    println(\"Answer 1: ${part1(nums)}\\nAnswer 2: ${part2(nums)}\")\n",
    "}\n",
    "\n",
    "solution03()"
   ]
  },
  {
   "cell_type": "code",
   "execution_count": 5,
   "id": "7b394d91-2f85-4a3e-a071-6e35226eb9ac",
   "metadata": {
    "execution": {
     "iopub.execute_input": "2021-12-06T09:11+0000",
     "iopub.status.busy": "2021-12-06T09:11+0000",
     "iopub.status.idle": "2021-12-06T09:11+0000",
     "shell.execute_reply": "2021-12-06T09:11+0000",
     "shell.execute_reply.started": "2021-12-06T09:11+0000"
    }
   },
   "outputs": [
    {
     "name": "stdout",
     "output_type": "stream",
     "text": [
      "Answer 1: 44736\n",
      "Answer 2: 1827\n"
     ]
    }
   ],
   "source": [
    "typealias Board = MutableList<MutableList<Int>>\n",
    "\n",
    "fun parseGame(lines: Iterable<String>): Pair<List<Int>, List<Board>> {\n",
    "    val linesIt = lines.iterator()\n",
    "    val nums = linesIt.next().split(\",\").map {it.toInt()}\n",
    "    linesIt.next()\n",
    "    \n",
    "    val boards = mutableListOf<Board>()\n",
    "    var board = mutableListOf<MutableList<Int>>()\n",
    "    while (linesIt.hasNext()) {\n",
    "        val line = linesIt.next()\n",
    "        if (line.isEmpty()) {\n",
    "            boards.add(board)\n",
    "            board = mutableListOf<MutableList<Int>>()\n",
    "        } else {\n",
    "            board.add(line.trim().split(\"\\\\s+\".toRegex()).map {it.toInt()}.toMutableList())\n",
    "        }\n",
    "    }\n",
    "    boards.add(board)\n",
    "    return Pair(nums, boards)\n",
    "}\n",
    "\n",
    "fun applyNum(board: Board, num: Int) {\n",
    "    for (row in board) {\n",
    "        row.replaceAll {n -> if (n == num) -1 else n}\n",
    "    }\n",
    "}\n",
    "\n",
    "fun isFull(board: Board, pos: Int, is_vert: Boolean): Boolean {\n",
    "    for (i in 0 until board.size) {\n",
    "        val n = if (is_vert) board[i][pos] else board[pos][i]\n",
    "        if (n != -1) {\n",
    "            return false;\n",
    "        }\n",
    "    }\n",
    "    return true\n",
    "}\n",
    "\n",
    "fun hasWinner(board: Board): Boolean {\n",
    "    return (0 until board.size)\n",
    "        .any {isFull(board, it, true) || isFull(board, it, false)}\n",
    "}\n",
    "\n",
    "fun runSimulation(game: Pair<List<Int>, List<Board>>): List<Int> {\n",
    "    val (nums, boardsOrig) = game\n",
    "    val boards = boardsOrig.map {it.toMutableList()}\n",
    "    var winners = mutableListOf<Int>()\n",
    "    var scores = mutableListOf<Int>()\n",
    "    for (n in nums) {\n",
    "        for ((i, board) in boards.withIndex()) {\n",
    "            if (winners.contains(i)) {\n",
    "                continue\n",
    "            }\n",
    "            applyNum(board, n)\n",
    "            if (hasWinner(board)) {\n",
    "                val s = board.flatten().filter {it != -1}.sum()\n",
    "                winners.add(i)\n",
    "                scores.add(s * n)\n",
    "            }\n",
    "        }\n",
    "    } \n",
    "    return scores\n",
    "}\n",
    "\n",
    "fun solution04() {\n",
    "    val scores = runSimulation(parseGame(readInputLines(4)))\n",
    "    println(\"Answer 1: ${scores[0]}\\nAnswer 2: ${scores.last()}\")\n",
    "}\n",
    "\n",
    "solution04()"
   ]
  },
  {
   "cell_type": "code",
   "execution_count": 4,
   "id": "23b37d0e-9fad-483e-8785-3ec841419900",
   "metadata": {
    "execution": {
     "iopub.execute_input": "2021-12-06T09:11+0000",
     "iopub.status.busy": "2021-12-06T09:11+0000",
     "iopub.status.idle": "2021-12-06T09:11+0000",
     "shell.execute_reply": "2021-12-06T09:11+0000",
     "shell.execute_reply.started": "2021-12-06T09:11+0000"
    }
   },
   "outputs": [
    {
     "name": "stdout",
     "output_type": "stream",
     "text": [
      "Answer 1: 7436\n",
      "Answer 2: 21104\n"
     ]
    }
   ],
   "source": [
    "typealias Point = Pair<Int, Int>\n",
    "typealias Line = Pair<Point, Point>\n",
    "    \n",
    "fun parsePt(pt: String): Point {\n",
    "    val xy = pt.split(\",\").map {it.toInt()}\n",
    "    return Pair(xy[0], xy[1])\n",
    "}\n",
    "\n",
    "fun parseLine(line: String): Line {\n",
    "    val ab = line.split(\" -> \").map(::parsePt)\n",
    "    return Pair(ab[0], ab[1])\n",
    "}\n",
    "\n",
    "fun sgn(x: Int): Int {\n",
    "    if (x == 0) return 0\n",
    "    if (x < 0) return -1 else return 1\n",
    "}\n",
    "\n",
    "fun stroke(a: Point, b: Point, ptmap: HashMap<Point, Int>, skipDiagonals: Boolean) {\n",
    "    val (x1, y1) = a\n",
    "    val (x2, y2) = b\n",
    "    val dx = sgn(x2 - x1)\n",
    "    val dy = sgn(y2 - y1)\n",
    "    if (skipDiagonals && dx != 0 && dy != 0) {\n",
    "        return;\n",
    "    }\n",
    "    var cx = x1\n",
    "    var cy = y1\n",
    "    while (true) {\n",
    "        val cpt = Pair(cx, cy)\n",
    "        ptmap[cpt] = ptmap.getOrDefault(cpt, 0) + 1\n",
    "        if (cx == x2 && cy == y2) {\n",
    "            break;\n",
    "        }\n",
    "        cx += dx\n",
    "        cy += dy\n",
    "    } \n",
    "}\n",
    "\n",
    "fun findNumOverlaps(lines: List<Line>, skipDiagonals: Boolean): Int {\n",
    "    var ptmap = HashMap<Point, Int>()\n",
    "    for ((a, b) in lines) {\n",
    "        stroke(a, b, ptmap, skipDiagonals);\n",
    "    }\n",
    "    return ptmap.map {(_, cnt) -> if (cnt >= 2) 1 else 0}.sum()\n",
    "}\n",
    "\n",
    "fun solution05() {\n",
    "    val lines = readInputLines(5).map(::parseLine)\n",
    "    val res1 = findNumOverlaps(lines, true)\n",
    "    val res2 = findNumOverlaps(lines, false)\n",
    "    println(\"Answer 1: ${res1}\\nAnswer 2: ${res2}\")\n",
    "}\n",
    "\n",
    "solution05()"
   ]
  },
  {
   "cell_type": "code",
   "execution_count": 3,
   "id": "5e572ae1-9f49-4f81-898e-40f2f0b4a139",
   "metadata": {
    "execution": {
     "iopub.execute_input": "2021-12-06T09:11+0000",
     "iopub.status.busy": "2021-12-06T09:11+0000",
     "iopub.status.idle": "2021-12-06T09:11+0000",
     "shell.execute_reply": "2021-12-06T09:11+0000",
     "shell.execute_reply.started": "2021-12-06T09:11+0000"
    }
   },
   "outputs": [
    {
     "name": "stdout",
     "output_type": "stream",
     "text": [
      "Answer 1: 386755\n",
      "Answer 2: 1732731810807\n"
     ]
    }
   ],
   "source": [
    "fun getNumSpawned(n: Long, days: Long, spawned: HashMap<Pair<Long, Long>, Long>): Long {\n",
    "    if (days <= n) {\n",
    "        return 0\n",
    "    }\n",
    "    val key = Pair(n, days)\n",
    "    if (spawned.containsKey(key)) {\n",
    "        return spawned.get(key)!!\n",
    "    }\n",
    "    var res = (days - n - 1) / 7 + 1\n",
    "    for (i in 0 .. res) {\n",
    "        res += getNumSpawned(8, days - n - i * 7 - 1, spawned)\n",
    "    }\n",
    "    spawned.put(key, res)\n",
    "    return res\n",
    "}\n",
    "\n",
    "fun sumSpawned(nums: List<Long>, totalDays: Long): Long {\n",
    "    val spawned = HashMap<Pair<Long, Long>, Long>()\n",
    "    return nums.map {getNumSpawned(it, totalDays, spawned)}.sum() + nums.size\n",
    "}\n",
    "\n",
    "fun solution06() {\n",
    "    val line = readInputLines(6).first()\n",
    "    val nums = line.split(\",\").map {it.toLong()}\n",
    "    val res1 = sumSpawned(nums, 80)\n",
    "    val res2 = sumSpawned(nums, 256)\n",
    "    println(\"Answer 1: ${res1}\\nAnswer 2: ${res2}\")\n",
    "}\n",
    "\n",
    "solution06();"
   ]
  },
  {
   "cell_type": "code",
   "execution_count": null,
   "id": "4e6f9cd1-6bc2-443e-9513-98dd8b2b795f",
   "metadata": {},
   "outputs": [],
   "source": []
  }
 ],
 "metadata": {
  "kernelspec": {
   "display_name": "Kotlin",
   "language": "kotlin",
   "name": "kotlin"
  },
  "language_info": {
   "codemirror_mode": "text/x-kotlin",
   "file_extension": ".kt",
   "mimetype": "text/x-kotlin",
   "name": "kotlin",
   "nbconvert_exporter": "",
   "pygments_lexer": "kotlin",
   "version": "1.6.20-dev-5432"
  }
 },
 "nbformat": 4,
 "nbformat_minor": 5
}
