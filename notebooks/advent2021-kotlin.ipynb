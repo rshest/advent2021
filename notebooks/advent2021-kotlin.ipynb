{
 "cells": [
  {
   "cell_type": "code",
   "execution_count": 58,
   "id": "02f5379a-100b-4d10-8762-384f010d1bbe",
   "metadata": {},
   "outputs": [],
   "source": [
    "// SETUP\n",
    "import java.io.File"
   ]
  },
  {
   "cell_type": "code",
   "execution_count": 59,
   "id": "f562bc31-db43-49e0-a063-8344dd8c370d",
   "metadata": {},
   "outputs": [
    {
     "name": "stdout",
     "output_type": "stream",
     "text": [
      "Answer 1: 1557\n",
      "Answer 2: 1608\n"
     ]
    }
   ],
   "source": [
    "val nums = File(\"../data/01.txt\").readLines().map {it.toInt()}\n",
    "\n",
    "fun countIncr(nums: Iterable<Int>) = nums.windowed(2).filter {(a, b) -> a < b}.count()\n",
    "\n",
    "val res1 = countIncr(nums)\n",
    "val res2 = countIncr(nums.windowed(3).map {it.sum()})\n",
    "\n",
    "println(\"Answer 1: $res1\\nAnswer 2: $res2\")"
   ]
  },
  {
   "cell_type": "code",
   "execution_count": 60,
   "id": "65a3f0bd-8f11-4e81-89e9-52a423ba01a3",
   "metadata": {},
   "outputs": [
    {
     "name": "stdout",
     "output_type": "stream",
     "text": [
      "Answer 1: 1728414\n",
      "Answer 2: 1765720035\n"
     ]
    }
   ],
   "source": [
    "enum class Command {\n",
    "  forward, up, down\n",
    "}\n",
    "\n",
    "fun parseLine(line: String): Pair<Command, Int> { \n",
    "    val (c, n) = line.split(\" \")\n",
    "    return Pair(Command.valueOf(c), n.toInt())\n",
    "}\n",
    "\n",
    "fun step1(pos: Pair<Int, Int>, cmdLine: Pair<Command, Int>): Pair<Int, Int> {\n",
    "    val (x, depth) = pos\n",
    "    val (cmd, offs) = cmdLine\n",
    "    return when (cmd) {\n",
    "        Command.up -> Pair(x, depth - offs)\n",
    "        Command.down -> Pair(x, depth + offs)\n",
    "        Command.forward -> Pair(x + offs, depth)\n",
    "    }\n",
    "}\n",
    "\n",
    "fun step2(pos: Triple<Int, Int, Int>, cmdLine: Pair<Command, Int>): Triple<Int, Int, Int> {\n",
    "    val (x, depth, aim) = pos\n",
    "    val (cmd, offs) = cmdLine\n",
    "    return when (cmd) {\n",
    "        Command.up -> Triple(x, depth, aim - offs)\n",
    "        Command.down -> Triple(x, depth, aim + offs)\n",
    "        Command.forward -> Triple(x + offs, depth + aim * offs, aim)\n",
    "    }\n",
    "}\n",
    "\n",
    "val commands = File(\"../data/02.txt\").readLines().map {parseLine(it)}\n",
    "val (a1, b1) = commands.fold(Pair(0, 0), ::step1)\n",
    "val (a2, b2) = commands.fold(Triple(0, 0, 0), ::step2)\n",
    "println(\"Answer 1: ${a1 * b1}\\nAnswer 2: ${a2 * b2}\")"
   ]
  }
 ],
 "metadata": {
  "kernelspec": {
   "display_name": "Kotlin",
   "language": "kotlin",
   "name": "kotlin"
  },
  "language_info": {
   "codemirror_mode": "text/x-kotlin",
   "file_extension": ".kt",
   "mimetype": "text/x-kotlin",
   "name": "kotlin",
   "nbconvert_exporter": "",
   "pygments_lexer": "kotlin",
   "version": "1.6.20-dev-5432"
  }
 },
 "nbformat": 4,
 "nbformat_minor": 5
}
