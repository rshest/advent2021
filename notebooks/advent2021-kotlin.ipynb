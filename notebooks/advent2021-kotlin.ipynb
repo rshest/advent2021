{
 "cells": [
  {
   "cell_type": "code",
   "execution_count": 66,
   "id": "02f5379a-100b-4d10-8762-384f010d1bbe",
   "metadata": {},
   "outputs": [],
   "source": [
    "// SETUP\n",
    "import java.io.File\n",
    "import java.io.BufferedReader\n",
    "\n",
    "fun readInputLines(dayIdx: Int): Iterable<String> {\n",
    "    val fileName = \"../data/%02d.txt\".format(dayIdx)\n",
    "    val reader: BufferedReader = File(fileName).bufferedReader()\n",
    "    return Iterable { reader.lineSequence().iterator() }\n",
    "}\n",
    "\n",
    "fun readInputLines(dayIdx: Int, testIdx: Int): Iterable<String> {\n",
    "    val fileName = \"../data/%02dt%d.txt\".format(dayIdx, testIdx)\n",
    "    val reader: BufferedReader = File(fileName).bufferedReader()\n",
    "    return Iterable { reader.lineSequence().iterator() }\n",
    "}"
   ]
  },
  {
   "cell_type": "code",
   "execution_count": 67,
   "id": "f562bc31-db43-49e0-a063-8344dd8c370d",
   "metadata": {},
   "outputs": [
    {
     "name": "stdout",
     "output_type": "stream",
     "text": [
      "Answer 1: 1557\n",
      "Answer 2: 1608\n"
     ]
    }
   ],
   "source": [
    "val nums = readInputLines(1).map {it.toInt()}\n",
    "\n",
    "fun countIncr(nums: Iterable<Int>) = nums.windowed(2).filter {(a, b) -> a < b}.count()\n",
    "\n",
    "val res1 = countIncr(nums)\n",
    "val res2 = countIncr(nums.windowed(3).map {it.sum()})\n",
    "\n",
    "println(\"Answer 1: $res1\\nAnswer 2: $res2\")"
   ]
  },
  {
   "cell_type": "code",
   "execution_count": 68,
   "id": "65a3f0bd-8f11-4e81-89e9-52a423ba01a3",
   "metadata": {},
   "outputs": [
    {
     "name": "stdout",
     "output_type": "stream",
     "text": [
      "Answer 1: 1728414\n",
      "Answer 2: 1765720035\n"
     ]
    }
   ],
   "source": [
    "enum class Command {\n",
    "  forward, up, down\n",
    "}\n",
    "\n",
    "fun parseLine(line: String): Pair<Command, Int> { \n",
    "    val (c, n) = line.split(\" \")\n",
    "    return Pair(Command.valueOf(c), n.toInt())\n",
    "}\n",
    "\n",
    "fun step1(pos: Pair<Int, Int>, cmdLine: Pair<Command, Int>): Pair<Int, Int> {\n",
    "    val (x, depth) = pos\n",
    "    val (cmd, offs) = cmdLine\n",
    "    return when (cmd) {\n",
    "        Command.up -> Pair(x, depth - offs)\n",
    "        Command.down -> Pair(x, depth + offs)\n",
    "        Command.forward -> Pair(x + offs, depth)\n",
    "    }\n",
    "}\n",
    "\n",
    "fun step2(pos: Triple<Int, Int, Int>, cmdLine: Pair<Command, Int>): Triple<Int, Int, Int> {\n",
    "    val (x, depth, aim) = pos\n",
    "    val (cmd, offs) = cmdLine\n",
    "    return when (cmd) {\n",
    "        Command.up -> Triple(x, depth, aim - offs)\n",
    "        Command.down -> Triple(x, depth, aim + offs)\n",
    "        Command.forward -> Triple(x + offs, depth + aim * offs, aim)\n",
    "    }\n",
    "}\n",
    "\n",
    "val commands = readInputLines(2).map {parseLine(it)}\n",
    "val (a1, b1) = commands.fold(Pair(0, 0), ::step1)\n",
    "val (a2, b2) = commands.fold(Triple(0, 0, 0), ::step2)\n",
    "println(\"Answer 1: ${a1 * b1}\\nAnswer 2: ${a2 * b2}\")"
   ]
  },
  {
   "cell_type": "code",
   "execution_count": null,
   "id": "747cfd25-a30d-44ce-9ab4-6453202c4550",
   "metadata": {},
   "outputs": [],
   "source": []
  }
 ],
 "metadata": {
  "kernelspec": {
   "display_name": "Kotlin",
   "language": "kotlin",
   "name": "kotlin"
  },
  "language_info": {
   "codemirror_mode": "text/x-kotlin",
   "file_extension": ".kt",
   "mimetype": "text/x-kotlin",
   "name": "kotlin",
   "nbconvert_exporter": "",
   "pygments_lexer": "kotlin",
   "version": "1.6.20-dev-5432"
  }
 },
 "nbformat": 4,
 "nbformat_minor": 5
}
