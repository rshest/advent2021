{
 "cells": [
  {
   "cell_type": "code",
   "execution_count": 1,
   "id": "a2f598be-2079-48f3-b97f-733efb2619a0",
   "metadata": {},
   "outputs": [
    {
     "name": "stdout",
     "output_type": "stream",
     "text": [
      "Answer 1: 1557\n",
      "Answer 2: 1608\n"
     ]
    }
   ],
   "source": [
    "# DAY 01\n",
    "nums = [int(x) for x in open(\"../data/01.txt\").readlines()]\n",
    "\n",
    "def sliding_window(arr, n):\n",
    "    for i in range(0, len(arr) - n + 1):\n",
    "        yield arr[i:i+n]\n",
    "\n",
    "res1 = sum(x[1] > x[0] for x in sliding_window(nums, 2))\n",
    "res2 = sum(x[1] > x[0] for x in sliding_window(\n",
    "    [sum(y) for y in sliding_window(nums, 3)], \n",
    "    2))\n",
    "\n",
    "print(f'Answer 1: {res1}\\nAnswer 2: {res2}')"
   ]
  },
  {
   "cell_type": "code",
   "execution_count": 2,
   "id": "8a20a7c4-b26f-427e-a3ad-679001e47f30",
   "metadata": {},
   "outputs": [
    {
     "name": "stdout",
     "output_type": "stream",
     "text": [
      "Answer 1: 1728414\n",
      "Answer 2: 1765720035\n"
     ]
    }
   ],
   "source": [
    "# DAY 02\n",
    "from functools import reduce\n",
    "\n",
    "commands = [(x.split()[0], int(x.split()[1])) \n",
    "             for x in open(\"../data/02.txt\").readlines()]\n",
    "\n",
    "def step1(pos, command):\n",
    "    (x, depth) = pos\n",
    "    (cmd, offs) = command\n",
    "    if cmd == 'up':\n",
    "        return (x, depth - offs)\n",
    "    elif cmd == 'down':\n",
    "        return (x, depth + offs)\n",
    "    elif cmd == 'forward':\n",
    "        return (x + offs, depth)\n",
    "    \n",
    "def step2(pos, command):\n",
    "    (x, depth, aim) = pos\n",
    "    (cmd, offs) = command\n",
    "    if cmd == 'up':\n",
    "        return (x, depth, aim - offs)\n",
    "    elif cmd == 'down':\n",
    "        return (x, depth, aim + offs)\n",
    "    elif cmd == 'forward':\n",
    "        return (x + offs, depth + aim * offs, aim)\n",
    "        \n",
    "pos1 = reduce(step1, commands, (0, 0))\n",
    "pos2 = reduce(step2, commands, (0, 0, 0))\n",
    "print(f'Answer 1: {pos1[0] * pos1[1]}\\nAnswer 2: {pos2[0] * pos2[1]}')"
   ]
  },
  {
   "cell_type": "code",
   "execution_count": 3,
   "id": "290b0ec7-fc7a-4f89-9188-01b05a72260f",
   "metadata": {},
   "outputs": [
    {
     "name": "stdout",
     "output_type": "stream",
     "text": [
      "Answer 1: 2972336\n",
      "Answer 2: 3368358\n"
     ]
    }
   ],
   "source": [
    "# DAY 03\n",
    "def get_most_least_common(nums, pos):\n",
    "    n0 = 0\n",
    "    n1 = 0\n",
    "    for num in nums:\n",
    "        n0 += num[pos] == '0'\n",
    "        n1 += num[pos] == '1'\n",
    "    return ('1', '0') if n1 >= n0 else ('0', '1')\n",
    "\n",
    "def part1(nums):\n",
    "    lc, mc = \"\", \"\"\n",
    "    for i in range(0, len(nums[0])):\n",
    "        (m, l) = get_most_least_common(nums, i)\n",
    "        mc += m\n",
    "        lc += l\n",
    "    return int(mc, 2) * int(lc, 2)\n",
    "     \n",
    "def part2(nums):\n",
    "    mnums = nums[:]\n",
    "    lnums = nums[:]\n",
    "    for i in range(0, len(nums[0])):\n",
    "        if len(mnums) > 1:\n",
    "            (m, l) = get_most_least_common(mnums, i)\n",
    "            mnums = [x for x in mnums if x[i] == m]\n",
    "\n",
    "        if len(lnums) > 1:\n",
    "            (m, l) = get_most_least_common(lnums, i)\n",
    "            lnums = [x for x in lnums if x[i] == l]\n",
    "\n",
    "    return int(mnums[0], 2) * int(lnums[0], 2)\n",
    "\n",
    "nums = [x.strip() for x in open('../data/03.txt').readlines()]\n",
    "print(f'Answer 1: {part1(nums)}\\nAnswer 2: {part2(nums)}')"
   ]
  },
  {
   "cell_type": "code",
   "execution_count": 96,
   "id": "1736c863-f43e-401f-a791-a208cbd73614",
   "metadata": {},
   "outputs": [
    {
     "name": "stdout",
     "output_type": "stream",
     "text": [
      "Answer 1: 44736\n",
      "Answer 2: 1827\n"
     ]
    }
   ],
   "source": [
    "# DAY 04\n",
    "def get_boards(data):\n",
    "    cells = []\n",
    "    for line in data:\n",
    "        if line == '':\n",
    "            yield cells\n",
    "            cells = []\n",
    "        else:\n",
    "            cells.append([int(x) for x in line.split()])\n",
    "    yield cells\n",
    "\n",
    "def is_full(board, pos, is_vert):\n",
    "    for i in range(len(board)):\n",
    "        n = board[i][pos] if is_vert else board[pos][i]\n",
    "        if n != -1:\n",
    "            return False\n",
    "    return True\n",
    "\n",
    "def has_winner(board):\n",
    "    return any(map(lambda i: \n",
    "                       is_full(board, i, True) or is_full(board, i, False), \n",
    "                   range(len(board))))\n",
    "\n",
    "def apply_num(board, num):\n",
    "    for row in board:\n",
    "        for i, el in enumerate(row):\n",
    "            if el == num:\n",
    "                row[i] = -1\n",
    "            \n",
    "def run_simulation(nums, boards):\n",
    "    winners, scores = [], []\n",
    "    for n in nums:\n",
    "        for i, board in enumerate(boards):\n",
    "            if i in winners:\n",
    "                continue\n",
    "            apply_num(board, n)\n",
    "            if has_winner(board):\n",
    "                s = n * sum(x for row in board for x in row if x != -1)\n",
    "                winners.append(i)\n",
    "                scores.append(s)\n",
    "    return scores\n",
    "             \n",
    "lines = [x.strip() for x in open('../data/04.txt').readlines()]\n",
    "nums = [int(x) for x in lines[0].split(\",\")]\n",
    "boards = list(get_boards(lines[2:]))\n",
    "scores = run_simulation(nums, boards)\n",
    "\n",
    "print(f\"Answer 1: {scores[0]}\\nAnswer 2: {scores[-1]}\")"
   ]
  },
  {
   "cell_type": "code",
   "execution_count": 9,
   "id": "425c104a-c757-4aa1-b05d-6f97fd668a06",
   "metadata": {},
   "outputs": [
    {
     "name": "stdout",
     "output_type": "stream",
     "text": [
      "Answer 1: 7436\n",
      "Answer 2: 21104\n"
     ]
    }
   ],
   "source": [
    "# DAY 05\n",
    "from collections import defaultdict\n",
    "\n",
    "def sgn(x):\n",
    "    if x == 0:\n",
    "        return 0\n",
    "    return 1 if x > 0 else -1\n",
    "\n",
    "def stroke(a, b, ptmap, skip_diagonals):\n",
    "    (x1, y1) = a\n",
    "    (x2, y2) = b\n",
    "    dx = sgn(x2 - x1)\n",
    "    dy = sgn(y2 - y1)\n",
    "    \n",
    "    if skip_diagonals and dx != 0 and dy != 0:\n",
    "        return\n",
    "    \n",
    "    cx, cy = x1, y1\n",
    "    while True:\n",
    "        ptmap[(cx, cy)] += 1\n",
    "        if cx == x2 and cy == y2:\n",
    "            break\n",
    "        cx += dx\n",
    "        cy += dy\n",
    "        \n",
    "def find_num_overlaps(points, skip_diagonals):\n",
    "    ptmap = defaultdict(int)\n",
    "    for a, b in points:\n",
    "        stroke(a, b, ptmap, skip_diagonals)\n",
    "    return sum(ptmap[x] >= 2 for x in ptmap)\n",
    "\n",
    "def parse_pt(pt):\n",
    "    (x, y) = [int(c) for c in pt.split(',')]\n",
    "    return (x, y)\n",
    "\n",
    "points = [list(map(parse_pt, x.strip().split(' -> ')))\n",
    "          for x in open('../data/05.txt').readlines()]\n",
    "res1 = find_num_overlaps(points, True)\n",
    "res2 = find_num_overlaps(points, False)\n",
    "print(f\"Answer 1: {res1}\\nAnswer 2: {res2}\")"
   ]
  },
  {
   "cell_type": "code",
   "execution_count": 387,
   "id": "a1201a2e-2bfe-41ec-a9c8-0434d2137720",
   "metadata": {},
   "outputs": [
    {
     "name": "stdout",
     "output_type": "stream",
     "text": [
      "Answer 1: 386755\n",
      "Answer 2: 1732731810807\n"
     ]
    }
   ],
   "source": [
    "# DAY 06\n",
    "def sum_spawned(nums, total_days):\n",
    "    spawned = {}\n",
    "\n",
    "    def get_n_spawned(n, days):\n",
    "        if days <= n:\n",
    "            return 0\n",
    "        if (n, days) in spawned:\n",
    "            return spawned[(n, days)]\n",
    "        res = (days - n - 1) // 7 + 1\n",
    "\n",
    "        for i in range(res):\n",
    "            res += get_n_spawned(8, days - n - i * 7 - 1)\n",
    "        spawned[(n, days)] = res\n",
    "        return res\n",
    "\n",
    "    return sum(get_n_spawned(x, total_days) for x in nums) + len(nums)\n",
    "\n",
    "nums = [int(x) for x in open('../data/06.txt').read().split(',')]\n",
    "print(f\"Answer 1: {sum_spawned(nums, 80)}\\nAnswer 2: {sum_spawned(nums, 256)}\")"
   ]
  },
  {
   "cell_type": "code",
   "execution_count": 19,
   "id": "337cc05d-55e4-4c18-89d2-11cdace47372",
   "metadata": {
    "execution": {
     "iopub.execute_input": "2021-12-07T06:26:35.028057Z",
     "iopub.status.busy": "2021-12-07T06:26:35.027813Z",
     "iopub.status.idle": "2021-12-07T06:26:35.294287Z",
     "shell.execute_reply": "2021-12-07T06:26:35.293700Z",
     "shell.execute_reply.started": "2021-12-07T06:26:35.028030Z"
    },
    "tags": []
   },
   "outputs": [
    {
     "name": "stdout",
     "output_type": "stream",
     "text": [
      "Answer 1: 343468\n",
      "Answer 2: 96086265\n"
     ]
    }
   ],
   "source": [
    "# DAY 07\n",
    "import statistics\n",
    "\n",
    "def part1(nums):\n",
    "    c = statistics.median(nums)\n",
    "    return sum(abs(x - c) for x in nums)\n",
    "\n",
    "# simple gradient descent\n",
    "def fmin(p0, f, num_it=1000):\n",
    "    EPS = 0.001\n",
    "    p = p0\n",
    "    for i in range(num_it):\n",
    "        pr = f(p + EPS)\n",
    "        pl = f(p - EPS)\n",
    "        dp = (pr - pl)/(2 * EPS)\n",
    "        p = p - dp * EPS\n",
    "    return p\n",
    "\n",
    "def part2(nums):\n",
    "    def f(x):\n",
    "        res = 0\n",
    "        for n in nums:\n",
    "            d = abs(x - n)\n",
    "            res += d * (d + 1)/2\n",
    "        return res\n",
    "    minx = int(round(fmin(statistics.median(nums), f)))\n",
    "    return f(minx)\n",
    "\n",
    "nums = [int(x) for x in open('../data/07.txt').read().split(',')]\n",
    "print(f\"Answer 1: {int(part1(nums))}\\nAnswer 2: {int(part2(nums))}\")"
   ]
  },
  {
   "cell_type": "code",
   "execution_count": null,
   "id": "0b20ecb9-252c-4ad0-9ede-2aa9d1ea0578",
   "metadata": {},
   "outputs": [],
   "source": []
  }
 ],
 "metadata": {
  "kernelspec": {
   "display_name": "Python 3 (ipykernel)",
   "language": "python",
   "name": "python3"
  },
  "language_info": {
   "codemirror_mode": {
    "name": "ipython",
    "version": 3
   },
   "file_extension": ".py",
   "mimetype": "text/x-python",
   "name": "python",
   "nbconvert_exporter": "python",
   "pygments_lexer": "ipython3",
   "version": "3.9.9"
  }
 },
 "nbformat": 4,
 "nbformat_minor": 5
}
