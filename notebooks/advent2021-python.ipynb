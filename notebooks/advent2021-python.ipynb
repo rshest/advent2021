{
 "cells": [
  {
   "cell_type": "code",
   "execution_count": 29,
   "id": "a2f598be-2079-48f3-b97f-733efb2619a0",
   "metadata": {},
   "outputs": [
    {
     "name": "stdout",
     "output_type": "stream",
     "text": [
      "Answer 1: 1557\n",
      "Answer 2: 1608\n"
     ]
    }
   ],
   "source": [
    "nums = [int(x) for x in open(\"../data/01.txt\").readlines()]\n",
    "\n",
    "def sliding_window(arr, n):\n",
    "    for i in range(0, len(arr) - n + 1):\n",
    "        yield arr[i:i+n]\n",
    "\n",
    "res1 = sum(x[1] > x[0] for x in sliding_window(nums, 2))\n",
    "res2 = sum(x[1] > x[0] for x in sliding_window(\n",
    "    [sum(y) for y in sliding_window(nums, 3)], \n",
    "    2))\n",
    "\n",
    "print(f'Answer 1: {res1}\\nAnswer 2: {res2}')"
   ]
  },
  {
   "cell_type": "code",
   "execution_count": null,
   "id": "c8c7ff70-ce70-4299-87ba-23d40cf92397",
   "metadata": {},
   "outputs": [],
   "source": []
  }
 ],
 "metadata": {
  "kernelspec": {
   "display_name": "Python 3 (ipykernel)",
   "language": "python",
   "name": "python3"
  },
  "language_info": {
   "codemirror_mode": {
    "name": "ipython",
    "version": 3
   },
   "file_extension": ".py",
   "mimetype": "text/x-python",
   "name": "python",
   "nbconvert_exporter": "python",
   "pygments_lexer": "ipython3",
   "version": "3.9.9"
  }
 },
 "nbformat": 4,
 "nbformat_minor": 5
}
