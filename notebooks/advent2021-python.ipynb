{
 "cells": [
  {
   "cell_type": "code",
   "execution_count": 29,
   "id": "a2f598be-2079-48f3-b97f-733efb2619a0",
   "metadata": {},
   "outputs": [
    {
     "name": "stdout",
     "output_type": "stream",
     "text": [
      "Answer 1: 1557\n",
      "Answer 2: 1608\n"
     ]
    }
   ],
   "source": [
    "nums = [int(x) for x in open(\"../data/01.txt\").readlines()]\n",
    "\n",
    "def sliding_window(arr, n):\n",
    "    for i in range(0, len(arr) - n + 1):\n",
    "        yield arr[i:i+n]\n",
    "\n",
    "res1 = sum(x[1] > x[0] for x in sliding_window(nums, 2))\n",
    "res2 = sum(x[1] > x[0] for x in sliding_window(\n",
    "    [sum(y) for y in sliding_window(nums, 3)], \n",
    "    2))\n",
    "\n",
    "print(f'Answer 1: {res1}\\nAnswer 2: {res2}')"
   ]
  },
  {
   "cell_type": "code",
   "execution_count": 51,
   "id": "8a20a7c4-b26f-427e-a3ad-679001e47f30",
   "metadata": {},
   "outputs": [
    {
     "name": "stdout",
     "output_type": "stream",
     "text": [
      "Answer 1: 1728414\n",
      "Answer 2: 1765720035\n"
     ]
    }
   ],
   "source": [
    "from functools import reduce\n",
    "\n",
    "commands = [(x.split()[0], int(x.split()[1])) \n",
    "             for x in open(\"../data/02.txt\").readlines()]\n",
    "\n",
    "def step1(pos, command):\n",
    "    (x, depth) = pos\n",
    "    (cmd, offs) = command\n",
    "    if cmd == 'up':\n",
    "        return (x, depth - offs)\n",
    "    elif cmd == 'down':\n",
    "        return (x, depth + offs)\n",
    "    elif cmd == 'forward':\n",
    "        return (x + offs, depth)\n",
    "    \n",
    "def step2(pos, command):\n",
    "    (x, depth, aim) = pos\n",
    "    (cmd, offs) = command\n",
    "    if cmd == 'up':\n",
    "        return (x, depth, aim - offs)\n",
    "    elif cmd == 'down':\n",
    "        return (x, depth, aim + offs)\n",
    "    elif cmd == 'forward':\n",
    "        return (x + offs, depth + aim * offs, aim)\n",
    "        \n",
    "pos1 = reduce(step1, commands, (0, 0))\n",
    "pos2 = reduce(step2, commands, (0, 0, 0))\n",
    "print(f'Answer 1: {pos1[0] * pos1[1]}\\nAnswer 2: {pos2[0] * pos2[1]}')"
   ]
  },
  {
   "cell_type": "code",
   "execution_count": 4,
   "id": "290b0ec7-fc7a-4f89-9188-01b05a72260f",
   "metadata": {},
   "outputs": [
    {
     "name": "stdout",
     "output_type": "stream",
     "text": [
      "Answer 1: 2972336\n",
      "Answer 2: 3368358\n"
     ]
    }
   ],
   "source": [
    "def get_most_least_common(nums, pos):\n",
    "    n0 = 0\n",
    "    n1 = 0\n",
    "    for num in nums:\n",
    "        n0 += num[pos] == '0'\n",
    "        n1 += num[pos] == '1'\n",
    "    return ('1', '0') if n1 >= n0 else ('0', '1')\n",
    "\n",
    "def part1(nums):\n",
    "    lc, mc = \"\", \"\"\n",
    "    for i in range(0, len(nums[0])):\n",
    "        (m, l) = get_most_least_common(nums, i)\n",
    "        mc += m\n",
    "        lc += l\n",
    "    return int(mc, 2) * int(lc, 2)\n",
    "     \n",
    "def part2(nums):\n",
    "    mnums = nums[:]\n",
    "    lnums = nums[:]\n",
    "    for i in range(0, len(nums[0])):\n",
    "        if len(mnums) > 1:\n",
    "            (m, l) = get_most_least_common(mnums, i)\n",
    "            mnums = [x for x in mnums if x[i] == m]\n",
    "\n",
    "        if len(lnums) > 1:\n",
    "            (m, l) = get_most_least_common(lnums, i)\n",
    "            lnums = [x for x in lnums if x[i] == l]\n",
    "\n",
    "    return int(mnums[0], 2) * int(lnums[0], 2)\n",
    "\n",
    "nums = [x.strip() for x in open('../data/03.txt').readlines()]\n",
    "print(f'Answer 1: {part1(nums)}\\nAnswer 2: {part2(nums)}')"
   ]
  },
  {
   "cell_type": "code",
   "execution_count": null,
   "id": "1736c863-f43e-401f-a791-a208cbd73614",
   "metadata": {},
   "outputs": [],
   "source": []
  }
 ],
 "metadata": {
  "kernelspec": {
   "display_name": "Python 3 (ipykernel)",
   "language": "python",
   "name": "python3"
  },
  "language_info": {
   "codemirror_mode": {
    "name": "ipython",
    "version": 3
   },
   "file_extension": ".py",
   "mimetype": "text/x-python",
   "name": "python",
   "nbconvert_exporter": "python",
   "pygments_lexer": "ipython3",
   "version": "3.9.9"
  }
 },
 "nbformat": 4,
 "nbformat_minor": 5
}
