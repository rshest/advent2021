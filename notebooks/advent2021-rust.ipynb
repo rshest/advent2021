{
 "cells": [
  {
   "cell_type": "code",
   "execution_count": 30,
   "id": "d453ae06-6ef2-4c3e-b900-3791205730fe",
   "metadata": {},
   "outputs": [],
   "source": [
    "// SETUP\n",
    "use std::fs::File;\n",
    "use std::collections::{HashMap, HashSet};\n",
    "use std::str::FromStr;\n",
    "use std::io::{BufRead, BufReader, Error, ErrorKind, Read};\n",
    "use std::time::Instant;\n",
    "\n",
    "fn read_lines(path: &str) -> Result<Vec<String>, Error> {\n",
    "    let file = File::open(path)?; \n",
    "    BufReader::new(file).lines().collect()\n",
    "}\n",
    "\n",
    "fn read_integers(path: &str) -> Result<Vec<i64>, Error> {\n",
    "    let mut v = Vec::new();\n",
    "    for line in read_lines(path)? {\n",
    "        let n = line   \n",
    "            .trim() \n",
    "            .parse() \n",
    "            .map_err(|e| Error::new(ErrorKind::InvalidData, e))?; \n",
    "        v.push(n);\n",
    "    }\n",
    "    Ok(v)\n",
    "}\n",
    "\n",
    "const DATA_ROOT: &str = \"../data/\";\n",
    "\n",
    "fn data_file(problem_id: u32) -> String {\n",
    "    format!(\"{}/{:02}.txt\", DATA_ROOT, problem_id)\n",
    "}\n",
    "\n",
    "fn test_file(problem_id: u32, test_id: u32) -> String {\n",
    "    format!(\"{}/{:02}t{}.txt\", DATA_ROOT, problem_id, test_id)\n",
    "}\n",
    "\n",
    "fn extra_file(problem_id: u32, suffix: &str) -> String {\n",
    "    format!(\"{}/{:02}.{}.txt\", DATA_ROOT, problem_id, suffix)\n",
    "}"
   ]
  },
  {
   "cell_type": "code",
   "execution_count": 32,
   "id": "dcc78f54-1037-4cea-a3a7-f9950b5cc5f0",
   "metadata": {},
   "outputs": [
    {
     "name": "stdout",
     "output_type": "stream",
     "text": [
      "Answer 1: 1557\n",
      "Answer 2: 1608\n",
      "\n"
     ]
    }
   ],
   "source": [
    "extern crate itertools;\n",
    "use itertools::Itertools;\n",
    "\n",
    "fn problem01() {    \n",
    "    let nums: Vec<i64> = read_integers(&data_file(1)).unwrap();\n",
    "    let res1: i64 = nums.iter().tuple_windows().map(|(a, b)| (b > a) as i64).sum();\n",
    "    let res2: i64 = nums.iter().tuple_windows::<(_, _, _)>().map(|(a, b, c)| a + b + c)\n",
    "        .tuple_windows().map(|(a, b)| (b > a) as i64).sum();\n",
    "    println!(\"Answer 1: {}\\nAnswer 2: {}\\n\", res1, res2);\n",
    "}\n",
    "\n",
    "problem01();"
   ]
  },
  {
   "cell_type": "code",
   "execution_count": 51,
   "id": "d8f8c279-c49f-4c46-9ff9-1916133365ab",
   "metadata": {},
   "outputs": [
    {
     "name": "stdout",
     "output_type": "stream",
     "text": [
      "Answer 1: 1728414\n",
      "Answer 2: 1765720035\n",
      "\n"
     ]
    }
   ],
   "source": [
    "#[derive(Debug, PartialEq, Copy, Clone)]\n",
    "enum Command {\n",
    "    Forward(i32),\n",
    "    Up(i32),\n",
    "    Down(i32),\n",
    "}\n",
    "\n",
    "impl FromStr for Command {\n",
    "    type Err = ();\n",
    "    \n",
    "    fn from_str(s: &str) -> Result<Self, Self::Err> {\n",
    "        let mut it = s.split(' ');\n",
    "        let opstr: &str = it.next().ok_or(())?;\n",
    "        let val: i32 = it.next().ok_or(())?.parse::<i32>().map_err(|_|())?;\n",
    "        match opstr {\n",
    "            \"forward\" => Ok(Command::Forward(val)),\n",
    "            \"up\" => Ok(Command::Up(val)),\n",
    "            \"down\" => Ok(Command::Down(val)),\n",
    "            _ => Err(()),\n",
    "        }\n",
    "    }\n",
    "}\n",
    "\n",
    "fn step1((x, depth): (i32, i32), cmd: &Command) -> (i32, i32) {\n",
    "    match cmd {\n",
    "        Command::Up(offs) => (x, depth - offs),\n",
    "        Command::Down(offs) => (x, depth + offs),\n",
    "        Command::Forward(offs) => (x + offs, depth),\n",
    "    }\n",
    "}\n",
    "\n",
    "fn step2((x, depth, aim): (i32, i32, i32), cmd: &Command) -> (i32, i32, i32) {\n",
    "    match cmd {\n",
    "        Command::Up(offs) => (x, depth, aim - offs),\n",
    "        Command::Down(offs) => (x, depth, aim + offs),\n",
    "        Command::Forward(offs) => (x + offs, depth + aim * offs, aim),\n",
    "    }\n",
    "}\n",
    "\n",
    "fn problem02() {\n",
    "    let commands: Vec<Command> = read_lines(&data_file(2)).unwrap()\n",
    "            .iter()\n",
    "            .filter_map(|line| line.parse().ok())\n",
    "            .collect();\n",
    "    let pos1 = commands.iter().fold((0i32, 0i32), step1);\n",
    "    let pos2 = commands.iter().fold((0i32, 0i32, 0i32), step2);\n",
    "    println!(\"Answer 1: {}\\nAnswer 2: {}\\n\", pos1.0 * pos1.1, pos2.0 * pos2.1);\n",
    "}\n",
    "\n",
    "problem02();"
   ]
  },
  {
   "cell_type": "code",
   "execution_count": null,
   "id": "f318214a-0182-49ee-86f9-185e74585561",
   "metadata": {},
   "outputs": [],
   "source": []
  }
 ],
 "metadata": {
  "kernelspec": {
   "display_name": "Rust",
   "language": "rust",
   "name": "rust"
  },
  "language_info": {
   "codemirror_mode": "rust",
   "file_extension": ".rs",
   "mimetype": "text/rust",
   "name": "Rust",
   "pygment_lexer": "rust",
   "version": ""
  }
 },
 "nbformat": 4,
 "nbformat_minor": 5
}
