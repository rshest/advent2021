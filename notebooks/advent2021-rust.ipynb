{
 "cells": [
  {
   "cell_type": "code",
   "execution_count": 30,
   "id": "d453ae06-6ef2-4c3e-b900-3791205730fe",
   "metadata": {},
   "outputs": [],
   "source": [
    "// SETUP\n",
    "use std::fs::File;\n",
    "use std::collections::{HashMap, HashSet};\n",
    "use std::str::FromStr;\n",
    "use std::io::{BufRead, BufReader, Error, ErrorKind, Read};\n",
    "use std::time::Instant;\n",
    "\n",
    "fn read_lines(path: &str) -> Result<Vec<String>, Error> {\n",
    "    let file = File::open(path)?; \n",
    "    BufReader::new(file).lines().collect()\n",
    "}\n",
    "\n",
    "fn read_integers(path: &str) -> Result<Vec<i64>, Error> {\n",
    "    let mut v = Vec::new();\n",
    "    for line in read_lines(path)? {\n",
    "        let n = line   \n",
    "            .trim() \n",
    "            .parse() \n",
    "            .map_err(|e| Error::new(ErrorKind::InvalidData, e))?; \n",
    "        v.push(n);\n",
    "    }\n",
    "    Ok(v)\n",
    "}\n",
    "\n",
    "const DATA_ROOT: &str = \"../data/\";\n",
    "\n",
    "fn data_file(problem_id: u32) -> String {\n",
    "    format!(\"{}/{:02}.txt\", DATA_ROOT, problem_id)\n",
    "}\n",
    "\n",
    "fn test_file(problem_id: u32, test_id: u32) -> String {\n",
    "    format!(\"{}/{:02}t{}.txt\", DATA_ROOT, problem_id, test_id)\n",
    "}\n",
    "\n",
    "fn extra_file(problem_id: u32, suffix: &str) -> String {\n",
    "    format!(\"{}/{:02}.{}.txt\", DATA_ROOT, problem_id, suffix)\n",
    "}"
   ]
  },
  {
   "cell_type": "code",
   "execution_count": 32,
   "id": "dcc78f54-1037-4cea-a3a7-f9950b5cc5f0",
   "metadata": {},
   "outputs": [
    {
     "name": "stdout",
     "output_type": "stream",
     "text": [
      "Answer 1: 1557\n",
      "Answer 2: 1608\n",
      "\n"
     ]
    }
   ],
   "source": [
    "extern crate itertools;\n",
    "use itertools::Itertools;\n",
    "\n",
    "fn problem01() {    \n",
    "    let nums: Vec<i64> = read_integers(&data_file(1)).unwrap();\n",
    "    let res1: i64 = nums.iter().tuple_windows().map(|(a, b)| (b > a) as i64).sum();\n",
    "    let res2: i64 = nums.iter().tuple_windows::<(_, _, _)>().map(|(a, b, c)| a + b + c)\n",
    "        .tuple_windows().map(|(a, b)| (b > a) as i64).sum();\n",
    "    println!(\"Answer 1: {}\\nAnswer 2: {}\\n\", res1, res2);\n",
    "}\n",
    "\n",
    "problem01();"
   ]
  },
  {
   "cell_type": "code",
   "execution_count": null,
   "id": "d8f8c279-c49f-4c46-9ff9-1916133365ab",
   "metadata": {},
   "outputs": [],
   "source": []
  }
 ],
 "metadata": {
  "kernelspec": {
   "display_name": "Rust",
   "language": "rust",
   "name": "rust"
  },
  "language_info": {
   "codemirror_mode": "rust",
   "file_extension": ".rs",
   "mimetype": "text/rust",
   "name": "Rust",
   "pygment_lexer": "rust",
   "version": ""
  }
 },
 "nbformat": 4,
 "nbformat_minor": 5
}
